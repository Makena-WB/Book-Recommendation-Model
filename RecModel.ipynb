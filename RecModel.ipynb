{
  "cells": [
    {
      "cell_type": "markdown",
      "metadata": {
        "id": "view-in-github",
        "colab_type": "text"
      },
      "source": [
        "<a href=\"https://colab.research.google.com/github/Makena-WB/Book-Recommendation-Model/blob/main/RecModel.ipynb\" target=\"_parent\"><img src=\"https://colab.research.google.com/assets/colab-badge.svg\" alt=\"Open In Colab\"/></a>"
      ]
    },
    {
      "cell_type": "code",
      "execution_count": 1,
      "metadata": {
        "colab": {
          "base_uri": "https://localhost:8080/"
        },
        "id": "Wm88E7_IK9q8",
        "outputId": "5eb65ac0-5a66-4bd1-a9f9-aa6f4d9f7b46"
      },
      "outputs": [
        {
          "output_type": "stream",
          "name": "stdout",
          "text": [
            "Mounted at /content/drive\n"
          ]
        }
      ],
      "source": [
        "from google.colab import drive\n",
        "drive.mount('/content/drive')"
      ]
    },
    {
      "cell_type": "code",
      "execution_count": 2,
      "metadata": {
        "colab": {
          "base_uri": "https://localhost:8080/"
        },
        "collapsed": true,
        "id": "Itub3YNNLsq3",
        "outputId": "4d1c8baa-7a77-484e-fcd0-c9d08c744d24"
      },
      "outputs": [
        {
          "output_type": "stream",
          "name": "stdout",
          "text": [
            "Requirement already satisfied: pandas in /usr/local/lib/python3.10/dist-packages (2.2.2)\n",
            "Requirement already satisfied: numpy>=1.22.4 in /usr/local/lib/python3.10/dist-packages (from pandas) (1.26.4)\n",
            "Requirement already satisfied: python-dateutil>=2.8.2 in /usr/local/lib/python3.10/dist-packages (from pandas) (2.9.0.post0)\n",
            "Requirement already satisfied: pytz>=2020.1 in /usr/local/lib/python3.10/dist-packages (from pandas) (2024.2)\n",
            "Requirement already satisfied: tzdata>=2022.7 in /usr/local/lib/python3.10/dist-packages (from pandas) (2024.2)\n",
            "Requirement already satisfied: six>=1.5 in /usr/local/lib/python3.10/dist-packages (from python-dateutil>=2.8.2->pandas) (1.17.0)\n",
            "Collecting scikit-surprise\n",
            "  Downloading scikit_surprise-1.1.4.tar.gz (154 kB)\n",
            "\u001b[2K     \u001b[90m━━━━━━━━━━━━━━━━━━━━━━━━━━━━━━━━━━━━━━━━\u001b[0m \u001b[32m154.4/154.4 kB\u001b[0m \u001b[31m3.4 MB/s\u001b[0m eta \u001b[36m0:00:00\u001b[0m\n",
            "\u001b[?25h  Installing build dependencies ... \u001b[?25l\u001b[?25hdone\n",
            "  Getting requirements to build wheel ... \u001b[?25l\u001b[?25hdone\n",
            "  Preparing metadata (pyproject.toml) ... \u001b[?25l\u001b[?25hdone\n",
            "Requirement already satisfied: joblib>=1.2.0 in /usr/local/lib/python3.10/dist-packages (from scikit-surprise) (1.4.2)\n",
            "Requirement already satisfied: numpy>=1.19.5 in /usr/local/lib/python3.10/dist-packages (from scikit-surprise) (1.26.4)\n",
            "Requirement already satisfied: scipy>=1.6.0 in /usr/local/lib/python3.10/dist-packages (from scikit-surprise) (1.13.1)\n",
            "Building wheels for collected packages: scikit-surprise\n",
            "  Building wheel for scikit-surprise (pyproject.toml) ... \u001b[?25l\u001b[?25hdone\n",
            "  Created wheel for scikit-surprise: filename=scikit_surprise-1.1.4-cp310-cp310-linux_x86_64.whl size=2357284 sha256=c5b9c7d189c3c0bdf57c61ffcce49f4f0f9e777a2f6319a50361fbfb3585ba81\n",
            "  Stored in directory: /root/.cache/pip/wheels/4b/3f/df/6acbf0a40397d9bf3ff97f582cc22fb9ce66adde75bc71fd54\n",
            "Successfully built scikit-surprise\n",
            "Installing collected packages: scikit-surprise\n",
            "Successfully installed scikit-surprise-1.1.4\n"
          ]
        }
      ],
      "source": [
        "!pip install pandas\n",
        "!pip install scikit-surprise\n"
      ]
    },
    {
      "cell_type": "code",
      "execution_count": 3,
      "metadata": {
        "id": "jhs30J4FLvH-"
      },
      "outputs": [],
      "source": [
        "import warnings\n",
        "warnings.filterwarnings('ignore')\n",
        "\n",
        "import pandas as pd\n",
        "import numpy as np\n",
        "import matplotlib.pyplot as plt\n",
        "import seaborn as sns\n",
        "\n",
        "#for content based filtering\n",
        "from sklearn.metrics.pairwise import linear_kernel\n",
        "from sklearn.feature_extraction.text import TfidfVectorizer\n",
        "\n",
        "#for collaborative filtering\n",
        "import os\n",
        "import math\n",
        "import random\n",
        "\n",
        "from surprise import accuracy, Reader, Dataset, dump\n",
        "from surprise import NormalPredictor, KNNBasic, SVD, SVDpp\n",
        "from surprise.model_selection import cross_validate, GridSearchCV"
      ]
    },
    {
      "cell_type": "code",
      "execution_count": 4,
      "metadata": {
        "id": "CRJ9jPv8LNDX"
      },
      "outputs": [],
      "source": [
        "pd.options.display.float_format = '{:.2f}'.format\n",
        "\n",
        "ratings = pd.read_csv('/content/drive/MyDrive/BookData/ratings.csv')\n",
        "books = pd.read_csv('/content/drive/MyDrive/BookData/books_trimmed.csv')\n"
      ]
    },
    {
      "cell_type": "markdown",
      "metadata": {
        "id": "p0sPpQP6MzDt"
      },
      "source": [
        "Simple Recs"
      ]
    },
    {
      "cell_type": "code",
      "execution_count": 5,
      "metadata": {
        "id": "WFM3MQNVMXVi"
      },
      "outputs": [],
      "source": [
        "def simple_recommender(Books, n=5):\n",
        "    v = Books['ratings_count']\n",
        "    m = Books['ratings_count'].quantile(0.95)\n",
        "    R = Books['average_rating']\n",
        "    C = Books['average_rating'].median()\n",
        "    score = (v/(v+m) * R) + (m/(m+v) * C)\n",
        "    Books['score'] = score\n",
        "\n",
        "\n",
        "    qualified  = Books.sort_values('score', ascending=False)\n",
        "    return qualified[['book_id', 'title', 'authors', 'small_image_url', 'average_rating', 'ratings_count','score']].head(n)"
      ]
    },
    {
      "cell_type": "code",
      "execution_count": 6,
      "metadata": {
        "colab": {
          "base_uri": "https://localhost:8080/",
          "height": 523
        },
        "id": "2FYSAKUGMnAC",
        "outputId": "5019b612-75cf-4145-a6e1-53ebc23ce94f"
      },
      "outputs": [
        {
          "output_type": "execute_result",
          "data": {
            "text/plain": [
              "<pandas.io.formats.style.Styler at 0x7b8a93ea73d0>"
            ],
            "text/html": [
              "<style type=\"text/css\">\n",
              "</style>\n",
              "<table id=\"T_71daf\" class=\"dataframe\">\n",
              "  <thead>\n",
              "    <tr>\n",
              "      <th class=\"blank level0\" >&nbsp;</th>\n",
              "      <th id=\"T_71daf_level0_col0\" class=\"col_heading level0 col0\" >book_id</th>\n",
              "      <th id=\"T_71daf_level0_col1\" class=\"col_heading level0 col1\" >title</th>\n",
              "      <th id=\"T_71daf_level0_col2\" class=\"col_heading level0 col2\" >authors</th>\n",
              "      <th id=\"T_71daf_level0_col3\" class=\"col_heading level0 col3\" >small_image_url</th>\n",
              "      <th id=\"T_71daf_level0_col4\" class=\"col_heading level0 col4\" >average_rating</th>\n",
              "      <th id=\"T_71daf_level0_col5\" class=\"col_heading level0 col5\" >ratings_count</th>\n",
              "      <th id=\"T_71daf_level0_col6\" class=\"col_heading level0 col6\" >score</th>\n",
              "    </tr>\n",
              "  </thead>\n",
              "  <tbody>\n",
              "    <tr>\n",
              "      <th id=\"T_71daf_level0_row0\" class=\"row_heading level0 row0\" >21</th>\n",
              "      <td id=\"T_71daf_row0_col0\" class=\"data row0 col0\" >25</td>\n",
              "      <td id=\"T_71daf_row0_col1\" class=\"data row0 col1\" >Harry Potter and the Deathly Hallows (Harry Potter, #7)</td>\n",
              "      <td id=\"T_71daf_row0_col2\" class=\"data row0 col2\" >J.K. Rowling</td>\n",
              "      <td id=\"T_71daf_row0_col3\" class=\"data row0 col3\" ><img src=\"https://images.gr-assets.com/books/1474171184s/136251.jpg\" width=50></img></td>\n",
              "      <td id=\"T_71daf_row0_col4\" class=\"data row0 col4\" >4.610000</td>\n",
              "      <td id=\"T_71daf_row0_col5\" class=\"data row0 col5\" >1746574</td>\n",
              "      <td id=\"T_71daf_row0_col6\" class=\"data row0 col6\" >4.557539</td>\n",
              "    </tr>\n",
              "    <tr>\n",
              "      <th id=\"T_71daf_level0_row1\" class=\"row_heading level0 row1\" >23</th>\n",
              "      <td id=\"T_71daf_row1_col0\" class=\"data row1 col0\" >27</td>\n",
              "      <td id=\"T_71daf_row1_col1\" class=\"data row1 col1\" >Harry Potter and the Half-Blood Prince (Harry Potter, #6)</td>\n",
              "      <td id=\"T_71daf_row1_col2\" class=\"data row1 col2\" >J.K. Rowling</td>\n",
              "      <td id=\"T_71daf_row1_col3\" class=\"data row1 col3\" ><img src=\"https://images.gr-assets.com/books/1361039191s/1.jpg\" width=50></img></td>\n",
              "      <td id=\"T_71daf_row1_col4\" class=\"data row1 col4\" >4.540000</td>\n",
              "      <td id=\"T_71daf_row1_col5\" class=\"data row1 col5\" >1678823</td>\n",
              "      <td id=\"T_71daf_row1_col6\" class=\"data row1 col6\" >4.492070</td>\n",
              "    </tr>\n",
              "    <tr>\n",
              "      <th id=\"T_71daf_level0_row2\" class=\"row_heading level0 row2\" >15</th>\n",
              "      <td id=\"T_71daf_row2_col0\" class=\"data row2 col0\" >18</td>\n",
              "      <td id=\"T_71daf_row2_col1\" class=\"data row2 col1\" >Harry Potter and the Prisoner of Azkaban (Harry Potter, #3)</td>\n",
              "      <td id=\"T_71daf_row2_col2\" class=\"data row2 col2\" >J.K. Rowling</td>\n",
              "      <td id=\"T_71daf_row2_col3\" class=\"data row2 col3\" ><img src=\"https://images.gr-assets.com/books/1499277281s/5.jpg\" width=50></img></td>\n",
              "      <td id=\"T_71daf_row2_col4\" class=\"data row2 col4\" >4.530000</td>\n",
              "      <td id=\"T_71daf_row2_col5\" class=\"data row2 col5\" >1832823</td>\n",
              "      <td id=\"T_71daf_row2_col6\" class=\"data row2 col6\" >4.486605</td>\n",
              "    </tr>\n",
              "    <tr>\n",
              "      <th id=\"T_71daf_level0_row3\" class=\"row_heading level0 row3\" >20</th>\n",
              "      <td id=\"T_71daf_row3_col0\" class=\"data row3 col0\" >24</td>\n",
              "      <td id=\"T_71daf_row3_col1\" class=\"data row3 col1\" >Harry Potter and the Goblet of Fire (Harry Potter, #4)</td>\n",
              "      <td id=\"T_71daf_row3_col2\" class=\"data row3 col2\" >J.K. Rowling</td>\n",
              "      <td id=\"T_71daf_row3_col3\" class=\"data row3 col3\" ><img src=\"https://images.gr-assets.com/books/1361482611s/6.jpg\" width=50></img></td>\n",
              "      <td id=\"T_71daf_row3_col4\" class=\"data row3 col4\" >4.530000</td>\n",
              "      <td id=\"T_71daf_row3_col5\" class=\"data row3 col5\" >1753043</td>\n",
              "      <td id=\"T_71daf_row3_col6\" class=\"data row3 col6\" >4.484805</td>\n",
              "    </tr>\n",
              "    <tr>\n",
              "      <th id=\"T_71daf_level0_row4\" class=\"row_heading level0 row4\" >1</th>\n",
              "      <td id=\"T_71daf_row4_col0\" class=\"data row4 col0\" >2</td>\n",
              "      <td id=\"T_71daf_row4_col1\" class=\"data row4 col1\" >Harry Potter and the Sorcerer's Stone (Harry Potter, #1)</td>\n",
              "      <td id=\"T_71daf_row4_col2\" class=\"data row4 col2\" >J.K. Rowling</td>\n",
              "      <td id=\"T_71daf_row4_col3\" class=\"data row4 col3\" ><img src=\"https://images.gr-assets.com/books/1474154022s/3.jpg\" width=50></img></td>\n",
              "      <td id=\"T_71daf_row4_col4\" class=\"data row4 col4\" >4.440000</td>\n",
              "      <td id=\"T_71daf_row4_col5\" class=\"data row4 col5\" >4602479</td>\n",
              "      <td id=\"T_71daf_row4_col6\" class=\"data row4 col6\" >4.425001</td>\n",
              "    </tr>\n",
              "  </tbody>\n",
              "</table>\n"
            ]
          },
          "metadata": {},
          "execution_count": 6
        }
      ],
      "source": [
        "def show_image(val):\n",
        "    return '<img src=\"{}\" width=50></img>'.format(val)\n",
        "\n",
        "simple_recommender(books).style.format({'small_image_url': show_image})"
      ]
    },
    {
      "cell_type": "markdown",
      "metadata": {
        "id": "pLz6OthiPRSU"
      },
      "source": [
        "Cosine Similarity"
      ]
    },
    {
      "cell_type": "code",
      "execution_count": 7,
      "metadata": {
        "id": "W3PHdiVONDmq"
      },
      "outputs": [],
      "source": [
        "def content(Books):\n",
        "    Books['content'] = (pd.Series(Books[['authors', 'title', 'genres', 'description']]\n",
        "                                  .fillna('')\n",
        "                                  .values.tolist()\n",
        "                                  ).str.join(' '))\n",
        "    tf_content = TfidfVectorizer(analyzer='word', ngram_range=(1, 2), min_df=1, stop_words='english')\n",
        "    tfidf_matrix = tf_content.fit_transform(Books['content'])\n",
        "    cosine = linear_kernel(tfidf_matrix, tfidf_matrix)\n",
        "    index = pd.Series(Books.index, index=Books['title'])\n",
        "    return cosine, index"
      ]
    },
    {
      "cell_type": "code",
      "execution_count": 8,
      "metadata": {
        "id": "z8eDu_mNOFmj"
      },
      "outputs": [],
      "source": [
        "def content_recommendation(Books, title, n=5):\n",
        "    cosine_sim, indices = content(Books)\n",
        "    idx = indices[title]\n",
        "    sim_scores = list(enumerate(cosine_sim[idx]))\n",
        "    sim_scores = sorted(sim_scores, key=lambda x: x[1], reverse=True)\n",
        "    sim_scores = sim_scores[1:n + 1]\n",
        "    book_indices = [i[0] for i in sim_scores]\n",
        "    return Books[['book_id', 'title', 'authors', 'genres', 'description', 'small_image_url', 'average_rating', 'ratings_count']].iloc[book_indices]"
      ]
    },
    {
      "cell_type": "code",
      "execution_count": 9,
      "metadata": {
        "colab": {
          "base_uri": "https://localhost:8080/",
          "height": 766
        },
        "collapsed": true,
        "id": "rp4xQzXKOT6L",
        "outputId": "111ffde8-6552-4195-954f-08d3f6e49ff7"
      },
      "outputs": [
        {
          "output_type": "execute_result",
          "data": {
            "text/plain": [
              "<pandas.io.formats.style.Styler at 0x7b8a93ea7340>"
            ],
            "text/html": [
              "<style type=\"text/css\">\n",
              "</style>\n",
              "<table id=\"T_9fb37\" class=\"dataframe\">\n",
              "  <thead>\n",
              "    <tr>\n",
              "      <th class=\"blank level0\" >&nbsp;</th>\n",
              "      <th id=\"T_9fb37_level0_col0\" class=\"col_heading level0 col0\" >book_id</th>\n",
              "      <th id=\"T_9fb37_level0_col1\" class=\"col_heading level0 col1\" >title</th>\n",
              "      <th id=\"T_9fb37_level0_col2\" class=\"col_heading level0 col2\" >authors</th>\n",
              "      <th id=\"T_9fb37_level0_col3\" class=\"col_heading level0 col3\" >genres</th>\n",
              "      <th id=\"T_9fb37_level0_col4\" class=\"col_heading level0 col4\" >description</th>\n",
              "      <th id=\"T_9fb37_level0_col5\" class=\"col_heading level0 col5\" >small_image_url</th>\n",
              "      <th id=\"T_9fb37_level0_col6\" class=\"col_heading level0 col6\" >average_rating</th>\n",
              "      <th id=\"T_9fb37_level0_col7\" class=\"col_heading level0 col7\" >ratings_count</th>\n",
              "    </tr>\n",
              "  </thead>\n",
              "  <tbody>\n",
              "    <tr>\n",
              "      <th id=\"T_9fb37_level0_row0\" class=\"row_heading level0 row0\" >795</th>\n",
              "      <td id=\"T_9fb37_row0_col0\" class=\"data row0 col0\" >846</td>\n",
              "      <td id=\"T_9fb37_row0_col1\" class=\"data row0 col1\" >Animal Farm / 1984</td>\n",
              "      <td id=\"T_9fb37_row0_col2\" class=\"data row0 col2\" >George Orwell</td>\n",
              "      <td id=\"T_9fb37_row0_col3\" class=\"data row0 col3\" >classics, fiction, sciencefiction, fantasy, philosophy</td>\n",
              "      <td id=\"T_9fb37_row0_col4\" class=\"data row0 col4\" >this edition features george orwells best known novels – 1984 and animal farm – with an introduction by christopher hitchens in 1984 london is a grim city where big brother is always watching you and the thought police can practically read your mind  winston smith joins a secret revolutionary organization called the brotherhood dedicated to the destruction of the party together with his beloved julia he hazards his life in a deadly match against the powers that beanimal farm is orwells classic satire of the russian revolution  an account of the bold struggle initiated by the animals that transforms mr joness manor farm into animal farma wholly democratic society built on the credo that all animals are created equal but are they?</td>\n",
              "      <td id=\"T_9fb37_row0_col5\" class=\"data row0 col5\" ><img src=\"https://images.gr-assets.com/books/1327959366s/5472.jpg\" width=50></img></td>\n",
              "      <td id=\"T_9fb37_row0_col6\" class=\"data row0 col6\" >4.260000</td>\n",
              "      <td id=\"T_9fb37_row0_col7\" class=\"data row0 col7\" >116197</td>\n",
              "    </tr>\n",
              "    <tr>\n",
              "      <th id=\"T_9fb37_level0_row1\" class=\"row_heading level0 row1\" >2048</th>\n",
              "      <td id=\"T_9fb37_row1_col0\" class=\"data row1 col0\" >2187</td>\n",
              "      <td id=\"T_9fb37_row1_col1\" class=\"data row1 col1\" >We</td>\n",
              "      <td id=\"T_9fb37_row1_col2\" class=\"data row1 col2\" >Yevgeny Zamyatin</td>\n",
              "      <td id=\"T_9fb37_row1_col3\" class=\"data row1 col3\" >fiction, sciencefiction, classics</td>\n",
              "      <td id=\"T_9fb37_row1_col4\" class=\"data row1 col4\" >the exhilarating dystopian novel that inspired george orwells 1984 and foreshadowed the worst excesses of soviet russiayevgeny zamyatins we is a powerfully inventive vision that has influenced writers from george orwell to ayn rand in a glassenclosed city of absolute straight lines ruled over by the allpowerful benefactor the citizens of the totalitarian society of onestate live out lives devoid of passion and creativity  until d503 a mathematician who dreams in numbers makes a discovery he has an individual soul set in the twentysixth century ad we is the classic dystopian novel and was the forerunner of works such as george orwells 1984 and aldous huxleys brave new world it was suppressed for many years in russia and remains a resounding cry for individual freedom yet is also a powerful exciting and vivid work of science fiction clarence browns brilliant translation is based on the corrected text of the novel first published in russia in 1988 after more than sixty years suppression</td>\n",
              "      <td id=\"T_9fb37_row1_col5\" class=\"data row1 col5\" ><img src=\"https://images.gr-assets.com/books/1421883730s/76171.jpg\" width=50></img></td>\n",
              "      <td id=\"T_9fb37_row1_col6\" class=\"data row1 col6\" >3.950000</td>\n",
              "      <td id=\"T_9fb37_row1_col7\" class=\"data row1 col7\" >40020</td>\n",
              "    </tr>\n",
              "    <tr>\n",
              "      <th id=\"T_9fb37_level0_row2\" class=\"row_heading level0 row2\" >3670</th>\n",
              "      <td id=\"T_9fb37_row2_col0\" class=\"data row2 col0\" >4004</td>\n",
              "      <td id=\"T_9fb37_row2_col1\" class=\"data row2 col1\" >Homage to Catalonia</td>\n",
              "      <td id=\"T_9fb37_row2_col2\" class=\"data row2 col2\" >George Orwell</td>\n",
              "      <td id=\"T_9fb37_row2_col3\" class=\"data row2 col3\" >history, nonfiction, classics, memoir, biography</td>\n",
              "      <td id=\"T_9fb37_row2_col4\" class=\"data row2 col4\" >in 1936 george orwell travelled to spain to report on the civil war and instead joined the fight against the fascists this famous account describes the war and orwell’s own experiences introduction by lionel trilling</td>\n",
              "      <td id=\"T_9fb37_row2_col5\" class=\"data row2 col5\" ><img src=\"https://images.gr-assets.com/books/1394868278s/9646.jpg\" width=50></img></td>\n",
              "      <td id=\"T_9fb37_row2_col6\" class=\"data row2 col6\" >4.140000</td>\n",
              "      <td id=\"T_9fb37_row2_col7\" class=\"data row2 col7\" >22227</td>\n",
              "    </tr>\n",
              "    <tr>\n",
              "      <th id=\"T_9fb37_level0_row3\" class=\"row_heading level0 row3\" >6857</th>\n",
              "      <td id=\"T_9fb37_row3_col0\" class=\"data row3 col0\" >8056</td>\n",
              "      <td id=\"T_9fb37_row3_col1\" class=\"data row3 col1\" >1Q84 #1-2 (1Q84, #1-2)</td>\n",
              "      <td id=\"T_9fb37_row3_col2\" class=\"data row3 col2\" >Haruki Murakami</td>\n",
              "      <td id=\"T_9fb37_row3_col3\" class=\"data row3 col3\" >fiction, fantasy, contemporary, sciencefiction</td>\n",
              "      <td id=\"T_9fb37_row3_col4\" class=\"data row3 col4\" >the year is 1984 and the city is tokyoa young woman named aomame follows a taxi driver’s enigmatic suggestion and begins to notice puzzling discrepancies in the world around her she has entered she realizes a parallel existence which she calls 1q84 “q is for ‘question mark’ a world that bears a question” meanwhile an aspiring writer named tengo takes on a suspect ghostwriting project he becomes so wrapped up with the work and its unusual author that soon his previously placid life begins to come unraveled a love story a mystery a fantasy a novel of selfdiscovery a dystopia to rival george orwell’s1q84 is haruki murakami’s most ambitious undertaking yet an instant best seller in his native japan and a tremendous feat of imagination from one of our most revered contemporary writers</td>\n",
              "      <td id=\"T_9fb37_row3_col5\" class=\"data row3 col5\" ><img src=\"https://images.gr-assets.com/books/1327925087s/12254379.jpg\" width=50></img></td>\n",
              "      <td id=\"T_9fb37_row3_col6\" class=\"data row3 col6\" >4.070000</td>\n",
              "      <td id=\"T_9fb37_row3_col7\" class=\"data row3 col7\" >8342</td>\n",
              "    </tr>\n",
              "    <tr>\n",
              "      <th id=\"T_9fb37_level0_row4\" class=\"row_heading level0 row4\" >4915</th>\n",
              "      <td id=\"T_9fb37_row4_col0\" class=\"data row4 col0\" >5510</td>\n",
              "      <td id=\"T_9fb37_row4_col1\" class=\"data row4 col1\" >The Far Side Gallery</td>\n",
              "      <td id=\"T_9fb37_row4_col2\" class=\"data row4 col2\" >Gary Larson</td>\n",
              "      <td id=\"T_9fb37_row4_col3\" class=\"data row4 col3\" >comics, graphicnovels, fiction</td>\n",
              "      <td id=\"T_9fb37_row4_col4\" class=\"data row4 col4\" >1984 farworks inc all rights reserved the far side and the larson signature are registered trademarks of farworks inc  the far side gallery is an anthology of gary larsons the far side comic strips which were printed from 1982–1984</td>\n",
              "      <td id=\"T_9fb37_row4_col5\" class=\"data row4 col5\" ><img src=\"https://s.gr-assets.com/assets/nophoto/book/50x75-a91bf249278a81aabab721ef782c4a74.png\" width=50></img></td>\n",
              "      <td id=\"T_9fb37_row4_col6\" class=\"data row4 col6\" >4.420000</td>\n",
              "      <td id=\"T_9fb37_row4_col7\" class=\"data row4 col7\" >20022</td>\n",
              "    </tr>\n",
              "  </tbody>\n",
              "</table>\n"
            ]
          },
          "metadata": {},
          "execution_count": 9
        }
      ],
      "source": [
        "content_recommendation(books, '1984').style.format({'small_image_url': show_image})"
      ]
    },
    {
      "cell_type": "markdown",
      "metadata": {
        "id": "3St6YjYzPZrh"
      },
      "source": [
        "Content + Popularity"
      ]
    },
    {
      "cell_type": "code",
      "execution_count": 13,
      "metadata": {
        "id": "cuV_RjUKPVEq"
      },
      "outputs": [],
      "source": [
        "def improved_recommendation(Books, title, n=5):\n",
        "    cosine_sim, indices = content(Books)\n",
        "    idx = indices[title]\n",
        "    sim_scores = list(enumerate(cosine_sim[idx]))\n",
        "    sim_scores = sorted(sim_scores, key=lambda x: x[1], reverse=True)\n",
        "    sim_scores = sim_scores[1:21]\n",
        "    book_indices = [i[0] for i in sim_scores]\n",
        "    books2 = Books.iloc[book_indices][['book_id', 'title', 'authors','genres', 'small_image_url', 'description', 'average_rating', 'ratings_count']]\n",
        "    v = books2['ratings_count']\n",
        "    m = books2['ratings_count'].quantile(0.75) #here the minimum rating is quantile 75\n",
        "    R = books2['average_rating']\n",
        "    C = books2['average_rating'].median()\n",
        "    books2['new_score'] = (v/(v+m) * R) + (m/(m+v) * C)\n",
        "    high_rating = books2[books2['ratings_count'] >= m]\n",
        "    high_rating = high_rating.sort_values('new_score', ascending=False)\n",
        "    return high_rating[['book_id', 'title', 'authors', 'genres', 'small_image_url', 'description', 'average_rating', 'ratings_count']].head(n)"
      ]
    },
    {
      "cell_type": "code",
      "execution_count": 14,
      "metadata": {
        "colab": {
          "base_uri": "https://localhost:8080/",
          "height": 1000
        },
        "collapsed": true,
        "id": "BkoQdpBKQTOo",
        "outputId": "81cdcfca-c465-4c21-d658-93397660101f"
      },
      "outputs": [
        {
          "output_type": "execute_result",
          "data": {
            "text/plain": [
              "<pandas.io.formats.style.Styler at 0x7b8a93e4aec0>"
            ],
            "text/html": [
              "<style type=\"text/css\">\n",
              "</style>\n",
              "<table id=\"T_4ff41\" class=\"dataframe\">\n",
              "  <thead>\n",
              "    <tr>\n",
              "      <th class=\"blank level0\" >&nbsp;</th>\n",
              "      <th id=\"T_4ff41_level0_col0\" class=\"col_heading level0 col0\" >book_id</th>\n",
              "      <th id=\"T_4ff41_level0_col1\" class=\"col_heading level0 col1\" >title</th>\n",
              "      <th id=\"T_4ff41_level0_col2\" class=\"col_heading level0 col2\" >authors</th>\n",
              "      <th id=\"T_4ff41_level0_col3\" class=\"col_heading level0 col3\" >genres</th>\n",
              "      <th id=\"T_4ff41_level0_col4\" class=\"col_heading level0 col4\" >small_image_url</th>\n",
              "      <th id=\"T_4ff41_level0_col5\" class=\"col_heading level0 col5\" >description</th>\n",
              "      <th id=\"T_4ff41_level0_col6\" class=\"col_heading level0 col6\" >average_rating</th>\n",
              "      <th id=\"T_4ff41_level0_col7\" class=\"col_heading level0 col7\" >ratings_count</th>\n",
              "    </tr>\n",
              "  </thead>\n",
              "  <tbody>\n",
              "    <tr>\n",
              "      <th id=\"T_4ff41_level0_row0\" class=\"row_heading level0 row0\" >795</th>\n",
              "      <td id=\"T_4ff41_row0_col0\" class=\"data row0 col0\" >846</td>\n",
              "      <td id=\"T_4ff41_row0_col1\" class=\"data row0 col1\" >Animal Farm / 1984</td>\n",
              "      <td id=\"T_4ff41_row0_col2\" class=\"data row0 col2\" >George Orwell</td>\n",
              "      <td id=\"T_4ff41_row0_col3\" class=\"data row0 col3\" >classics, fiction, sciencefiction, fantasy, philosophy</td>\n",
              "      <td id=\"T_4ff41_row0_col4\" class=\"data row0 col4\" ><img src=\"https://images.gr-assets.com/books/1327959366s/5472.jpg\" width=50></img></td>\n",
              "      <td id=\"T_4ff41_row0_col5\" class=\"data row0 col5\" >this edition features george orwells best known novels – 1984 and animal farm – with an introduction by christopher hitchens in 1984 london is a grim city where big brother is always watching you and the thought police can practically read your mind  winston smith joins a secret revolutionary organization called the brotherhood dedicated to the destruction of the party together with his beloved julia he hazards his life in a deadly match against the powers that beanimal farm is orwells classic satire of the russian revolution  an account of the bold struggle initiated by the animals that transforms mr joness manor farm into animal farma wholly democratic society built on the credo that all animals are created equal but are they?</td>\n",
              "      <td id=\"T_4ff41_row0_col6\" class=\"data row0 col6\" >4.260000</td>\n",
              "      <td id=\"T_4ff41_row0_col7\" class=\"data row0 col7\" >116197</td>\n",
              "    </tr>\n",
              "    <tr>\n",
              "      <th id=\"T_4ff41_level0_row1\" class=\"row_heading level0 row1\" >759</th>\n",
              "      <td id=\"T_4ff41_row1_col0\" class=\"data row1 col0\" >809</td>\n",
              "      <td id=\"T_4ff41_row1_col1\" class=\"data row1 col1\" >Brave New World / Brave New World Revisited</td>\n",
              "      <td id=\"T_4ff41_row1_col2\" class=\"data row1 col2\" >Aldous Huxley</td>\n",
              "      <td id=\"T_4ff41_row1_col3\" class=\"data row1 col3\" >classics, fiction, sciencefiction, fantasy, philosophy</td>\n",
              "      <td id=\"T_4ff41_row1_col4\" class=\"data row1 col4\" ><img src=\"https://images.gr-assets.com/books/1331315450s/5479.jpg\" width=50></img></td>\n",
              "      <td id=\"T_4ff41_row1_col5\" class=\"data row1 col5\" >the astonishing novel brave new world originally published in 1932 presents aldous huxleys vision of the futureof a world utterly transformed through the most efficient scientific and psychological engineering people are genetically designed to be passive and therefore consistently useful to the ruling class this powerful work of speculative fiction sheds a blazing critical light on the present and is considered to be aldous huxleys most enduring masterpiecethe nonfiction work brave new world revisited published in 1958 is a fascinating work in which huxley uses his tremendous knowledge of human relations to compare the modernday world with his prophetic fantasy envisioned in brave new world including the threats to humanity such as overpopulation propaganda and chemical persuasion</td>\n",
              "      <td id=\"T_4ff41_row1_col6\" class=\"data row1 col6\" >4.160000</td>\n",
              "      <td id=\"T_4ff41_row1_col7\" class=\"data row1 col7\" >108124</td>\n",
              "    </tr>\n",
              "    <tr>\n",
              "      <th id=\"T_4ff41_level0_row2\" class=\"row_heading level0 row2\" >604</th>\n",
              "      <td id=\"T_4ff41_row2_col0\" class=\"data row2 col0\" >649</td>\n",
              "      <td id=\"T_4ff41_row2_col1\" class=\"data row2 col1\" >1Q84</td>\n",
              "      <td id=\"T_4ff41_row2_col2\" class=\"data row2 col2\" >Haruki Murakami</td>\n",
              "      <td id=\"T_4ff41_row2_col3\" class=\"data row2 col3\" >fiction, fantasy, sciencefiction, contemporary</td>\n",
              "      <td id=\"T_4ff41_row2_col4\" class=\"data row2 col4\" ><img src=\"https://images.gr-assets.com/books/1483103331s/10357575.jpg\" width=50></img></td>\n",
              "      <td id=\"T_4ff41_row2_col5\" class=\"data row2 col5\" >the year is 1984 and the city is tokyoa young woman named aomame follows a taxi driver’s enigmatic suggestion and begins to notice puzzling discrepancies in the world around her she has entered she realizes a parallel existence which she calls 1q84 “q is for ‘question mark’ a world that bears a question” meanwhile an aspiring writer named tengo takes on a suspect ghostwriting project he becomes so wrapped up with the work and its unusual author that soon his previously placid life begins to come unraveled as aomame’s and tengo’s narratives converge over the course of this single year we learn of the profound and tangled connections that bind them ever closer a beautiful dyslexic teenage girl with a unique vision; a mysterious religious cult that instigated a shootout with the metropolitan police; a reclusive wealthy dowager who runs a shelter for abused women; a hideously ugly private investigator; a mildmannered yet ruthlessly efficient bodyguard; and a peculiarly insistent televisionfee collectora love story a mystery a fantasy a novel of selfdiscovery a dystopia to rival george orwell’s  1q84 is haruki murakami’s most ambitious undertaking yet an instant best seller in his native japan and a tremendous feat of imagination from one of our most revered contemporary writers</td>\n",
              "      <td id=\"T_4ff41_row2_col6\" class=\"data row2 col6\" >3.890000</td>\n",
              "      <td id=\"T_4ff41_row2_col7\" class=\"data row2 col7\" >125195</td>\n",
              "    </tr>\n",
              "    <tr>\n",
              "      <th id=\"T_4ff41_level0_row3\" class=\"row_heading level0 row3\" >8168</th>\n",
              "      <td id=\"T_4ff41_row3_col0\" class=\"data row3 col0\" >14</td>\n",
              "      <td id=\"T_4ff41_row3_col1\" class=\"data row3 col1\" >Animal Farm</td>\n",
              "      <td id=\"T_4ff41_row3_col2\" class=\"data row3 col2\" >George Orwell</td>\n",
              "      <td id=\"T_4ff41_row3_col3\" class=\"data row3 col3\" >classics, fiction, fantasy, sciencefiction, philosophy, youngadult, historicalfiction, books, history</td>\n",
              "      <td id=\"T_4ff41_row3_col4\" class=\"data row3 col4\" ><img src=\"https://images.gr-assets.com/books/1424037542s/7613.jpg\" width=50></img></td>\n",
              "      <td id=\"T_4ff41_row3_col5\" class=\"data row3 col5\" >“all animals are equal but some animals are more equal than others” a farm is taken over by its overworked mistreated animals with flaming idealism and stirring slogans they set out to create a paradise of progress justice and equality thus the stage is set for one of the most telling satiric fables ever penneda razoredged fairy tale for grownups that records the evolution from revolution against tyranny to a totalitarianism just as terrible  when animal farm was first published stalinist russia was seen as its target today it is devastatingly clear that wherever and whenever freedom is attacked under whatever banner the cutting clarity and savage comedy of george orwell’s masterpiece have a meaning and message still ferociously fresh</td>\n",
              "      <td id=\"T_4ff41_row3_col6\" class=\"data row3 col6\" >3.870000</td>\n",
              "      <td id=\"T_4ff41_row3_col7\" class=\"data row3 col7\" >1881700</td>\n",
              "    </tr>\n",
              "    <tr>\n",
              "      <th id=\"T_4ff41_level0_row4\" class=\"row_heading level0 row4\" >265</th>\n",
              "      <td id=\"T_4ff41_row4_col0\" class=\"data row4 col0\" >293</td>\n",
              "      <td id=\"T_4ff41_row4_col1\" class=\"data row4 col1\" >Treasure Island</td>\n",
              "      <td id=\"T_4ff41_row4_col2\" class=\"data row4 col2\" >Robert Louis Stevenson</td>\n",
              "      <td id=\"T_4ff41_row4_col3\" class=\"data row4 col3\" >classics, fiction, youngadult, historicalfiction, fantasy</td>\n",
              "      <td id=\"T_4ff41_row4_col4\" class=\"data row4 col4\" ><img src=\"https://images.gr-assets.com/books/1485248909s/295.jpg\" width=50></img></td>\n",
              "      <td id=\"T_4ff41_row4_col5\" class=\"data row4 col5\" >for sheer storytelling delight and pure adventure treasure island has never been surpassed from the moment young jim hawkins first encounters the sinister blind pew at the admiral benbow inn until the climactic battle for treasure on a tropic isle the novel creates scenes and characters that have fired the imaginations of generations of readers written by a superb prose stylist a master of both action and atmosphere the story centers upon the conflict between good and evil  but in this case a particularly engaging form of evil it is the villainy of that most ambiguous rogue long john silver that sets the tempo of this tale of treachery greed and daring designed to forever kindle a dream of high romance and distant horizons treasure island is in the words of g k chesterton the realization of an ideal that which is promised in its provocative and beckoning map; a vision not only of white skeletons but also green palm trees and sapphire seas g s fraser terms it an utterly original book and goes on to write there will always be a place for stories like treasure island that can keep boys and old men happy</td>\n",
              "      <td id=\"T_4ff41_row4_col6\" class=\"data row4 col6\" >3.820000</td>\n",
              "      <td id=\"T_4ff41_row4_col7\" class=\"data row4 col7\" >268012</td>\n",
              "    </tr>\n",
              "  </tbody>\n",
              "</table>\n"
            ]
          },
          "metadata": {},
          "execution_count": 14
        }
      ],
      "source": [
        "improved_recommendation(books, '1984').style.format({'small_image_url': show_image})"
      ]
    },
    {
      "cell_type": "markdown",
      "metadata": {
        "id": "UStTnxhMRB-E"
      },
      "source": [
        "collaborative"
      ]
    },
    {
      "cell_type": "code",
      "execution_count": 15,
      "metadata": {
        "id": "VFj09TgjQxTd"
      },
      "outputs": [],
      "source": [
        "# to have reproducible experiments\n",
        "my_seed = 0\n",
        "random.seed(my_seed)\n",
        "np.random.seed(my_seed)\n",
        "\n",
        "# load the full dataset\n",
        "reader = Reader(rating_scale=(1,5))\n",
        "data = Dataset.load_from_df(ratings, reader)\n",
        "\n",
        "# shuffle the ratings for unbiased result\n",
        "all_ratings = data.raw_ratings\n",
        "random.shuffle(all_ratings)\n",
        "\n",
        "# split data into train and test data with the ratio 70:30\n",
        "threshold = int(0.7 * len(all_ratings))\n",
        "train_ratings = all_ratings[:threshold]\n",
        "test_ratings = all_ratings[threshold:]"
      ]
    },
    {
      "cell_type": "code",
      "execution_count": 16,
      "metadata": {
        "id": "V6nXQQ3KRxEF"
      },
      "outputs": [],
      "source": [
        "\n",
        "def book_read(user_id):\n",
        "    '''Take user_id and return list of book that user has read'''\n",
        "    books_list = list(books['book_id'])\n",
        "    book_read_list = list(ratings['book_id'][ratings['user_id'] == user_id])\n",
        "    return books_list, book_read_list"
      ]
    },
    {
      "cell_type": "code",
      "execution_count": 17,
      "metadata": {
        "id": "yHPAMWTBRRl8"
      },
      "outputs": [],
      "source": [
        "# prepare train data\n",
        "data.raw_ratings = train_ratings\n",
        "\n",
        "# select algorithm\n",
        "npred = NormalPredictor()"
      ]
    },
    {
      "cell_type": "code",
      "execution_count": 18,
      "metadata": {
        "colab": {
          "base_uri": "https://localhost:8080/"
        },
        "id": "yLHV3M2BRaBu",
        "outputId": "ceed3f37-b3ee-4096-e5eb-5bc64a568356"
      },
      "outputs": [
        {
          "output_type": "stream",
          "name": "stdout",
          "text": [
            "Evaluating RMSE of algorithm NormalPredictor on 5 split(s).\n",
            "\n",
            "                  Fold 1  Fold 2  Fold 3  Fold 4  Fold 5  Mean    Std     \n",
            "RMSE (testset)    1.3221  1.3248  1.3219  1.3213  1.3230  1.3226  0.0012  \n",
            "Fit time          2.00    2.03    2.00    2.02    1.99    2.01    0.02    \n",
            "Test time         4.90    4.73    4.75    4.70    4.58    4.73    0.10    \n",
            "CPU times: user 1min 32s, sys: 5.05 s, total: 1min 37s\n",
            "Wall time: 1min 45s\n"
          ]
        }
      ],
      "source": [
        "%%time\n",
        "# cross validation for train data\n",
        "np_result = cross_validate(npred, data, measures=['RMSE'], cv=5, verbose=True, n_jobs=2)"
      ]
    },
    {
      "cell_type": "code",
      "execution_count": 19,
      "metadata": {
        "colab": {
          "base_uri": "https://localhost:8080/"
        },
        "id": "oHYbRTXQSRGv",
        "outputId": "4a91b800-68e0-4144-d788-2501ff55e50a"
      },
      "outputs": [
        {
          "output_type": "stream",
          "name": "stdout",
          "text": [
            "Train RMSE:\n",
            "RMSE: 1.3233\n",
            "Test RMSE:\n",
            "RMSE: 1.3236\n",
            "CPU times: user 1min 9s, sys: 1.74 s, total: 1min 11s\n",
            "Wall time: 1min 10s\n"
          ]
        }
      ],
      "source": [
        "%%time\n",
        "#retrain whole train test\n",
        "trainset = data.build_full_trainset()\n",
        "npred.fit(trainset)\n",
        "\n",
        "# Compute RMSE on trainset (without fold)\n",
        "np_train_pred = npred.test(trainset.build_testset())\n",
        "print('Train RMSE:')\n",
        "train_rmse = accuracy.rmse(np_train_pred)\n",
        "\n",
        "#compute RMSE on testset\n",
        "testset = data.construct_testset(test_ratings)\n",
        "np_test_pred = npred.test(testset)\n",
        "print('Test RMSE:')\n",
        "test_rmse = accuracy.rmse(np_test_pred)"
      ]
    },
    {
      "cell_type": "code",
      "execution_count": 20,
      "metadata": {
        "id": "CutyBeLnaz-N"
      },
      "outputs": [],
      "source": [
        "# uncomment this code to dump the calculation result for future use\n",
        "dump.dump('./dump_np', np_test_pred, npred)"
      ]
    },
    {
      "cell_type": "code",
      "execution_count": 21,
      "metadata": {
        "colab": {
          "base_uri": "https://localhost:8080/"
        },
        "id": "E2TKHhE7a1OB",
        "outputId": "6e7aef4b-3ac4-43df-fb3e-56b0c506627f"
      },
      "outputs": [
        {
          "output_type": "stream",
          "name": "stdout",
          "text": [
            "CPU times: user 15.7 s, sys: 463 ms, total: 16.1 s\n",
            "Wall time: 16.1 s\n"
          ]
        },
        {
          "output_type": "execute_result",
          "data": {
            "text/plain": [
              "<surprise.prediction_algorithms.random_pred.NormalPredictor at 0x7b89c5b74ac0>"
            ]
          },
          "metadata": {},
          "execution_count": 21
        }
      ],
      "source": [
        "%%time\n",
        "\n",
        "data.raw_ratings = all_ratings\n",
        "npred.fit(data.build_full_trainset())"
      ]
    },
    {
      "cell_type": "code",
      "execution_count": 22,
      "metadata": {
        "id": "G7VkgAx2a7W4"
      },
      "outputs": [],
      "source": [
        "def get_recommendation_npred(user_id, n=5):\n",
        "    '''Give n recommendation to user_id'''\n",
        "\n",
        "    all_books, user_books =  book_read(user_id)\n",
        "    next_books = [book for book in all_books if book not in user_books]\n",
        "\n",
        "    if n <= len(next_books):\n",
        "        ratings = []\n",
        "        for book in next_books:\n",
        "            est = npred.predict(user_id, book).est\n",
        "            ratings.append((book, est))\n",
        "        ratings = sorted(ratings, key=lambda x: x[1], reverse=True)\n",
        "        book_ids = [id for id, rate in ratings[:n]]\n",
        "        return books[books.book_id.isin(book_ids)][['book_id', 'title', 'authors', 'small_image_url', 'average_rating', 'ratings_count']]\n",
        "    else:\n",
        "        print('Please reduce your recommendation request')\n",
        "        return"
      ]
    },
    {
      "cell_type": "code",
      "execution_count": 23,
      "metadata": {
        "colab": {
          "base_uri": "https://localhost:8080/",
          "height": 524
        },
        "id": "oZtQ9otCb4iS",
        "outputId": "cdf6276e-dfc5-4996-9cc9-06124b86229b"
      },
      "outputs": [
        {
          "output_type": "execute_result",
          "data": {
            "text/plain": [
              "<pandas.io.formats.style.Styler at 0x7b8aa95e7370>"
            ],
            "text/html": [
              "<style type=\"text/css\">\n",
              "</style>\n",
              "<table id=\"T_dbcc9\" class=\"dataframe\">\n",
              "  <thead>\n",
              "    <tr>\n",
              "      <th class=\"blank level0\" >&nbsp;</th>\n",
              "      <th id=\"T_dbcc9_level0_col0\" class=\"col_heading level0 col0\" >book_id</th>\n",
              "      <th id=\"T_dbcc9_level0_col1\" class=\"col_heading level0 col1\" >title</th>\n",
              "      <th id=\"T_dbcc9_level0_col2\" class=\"col_heading level0 col2\" >authors</th>\n",
              "      <th id=\"T_dbcc9_level0_col3\" class=\"col_heading level0 col3\" >small_image_url</th>\n",
              "      <th id=\"T_dbcc9_level0_col4\" class=\"col_heading level0 col4\" >average_rating</th>\n",
              "      <th id=\"T_dbcc9_level0_col5\" class=\"col_heading level0 col5\" >ratings_count</th>\n",
              "    </tr>\n",
              "  </thead>\n",
              "  <tbody>\n",
              "    <tr>\n",
              "      <th id=\"T_dbcc9_level0_row0\" class=\"row_heading level0 row0\" >0</th>\n",
              "      <td id=\"T_dbcc9_row0_col0\" class=\"data row0 col0\" >1</td>\n",
              "      <td id=\"T_dbcc9_row0_col1\" class=\"data row0 col1\" >The Hunger Games (The Hunger Games, #1)</td>\n",
              "      <td id=\"T_dbcc9_row0_col2\" class=\"data row0 col2\" >Suzanne Collins</td>\n",
              "      <td id=\"T_dbcc9_row0_col3\" class=\"data row0 col3\" ><img src=\"https://images.gr-assets.com/books/1447303603s/2767052.jpg\" width=50></img></td>\n",
              "      <td id=\"T_dbcc9_row0_col4\" class=\"data row0 col4\" >4.340000</td>\n",
              "      <td id=\"T_dbcc9_row0_col5\" class=\"data row0 col5\" >4780653</td>\n",
              "    </tr>\n",
              "    <tr>\n",
              "      <th id=\"T_dbcc9_level0_row1\" class=\"row_heading level0 row1\" >5</th>\n",
              "      <td id=\"T_dbcc9_row1_col0\" class=\"data row1 col0\" >6</td>\n",
              "      <td id=\"T_dbcc9_row1_col1\" class=\"data row1 col1\" >The Fault in Our Stars</td>\n",
              "      <td id=\"T_dbcc9_row1_col2\" class=\"data row1 col2\" >John Green</td>\n",
              "      <td id=\"T_dbcc9_row1_col3\" class=\"data row1 col3\" ><img src=\"https://images.gr-assets.com/books/1360206420s/11870085.jpg\" width=50></img></td>\n",
              "      <td id=\"T_dbcc9_row1_col4\" class=\"data row1 col4\" >4.260000</td>\n",
              "      <td id=\"T_dbcc9_row1_col5\" class=\"data row1 col5\" >2346404</td>\n",
              "    </tr>\n",
              "    <tr>\n",
              "      <th id=\"T_dbcc9_level0_row2\" class=\"row_heading level0 row2\" >24</th>\n",
              "      <td id=\"T_dbcc9_row2_col0\" class=\"data row2 col0\" >28</td>\n",
              "      <td id=\"T_dbcc9_row2_col1\" class=\"data row2 col1\" >Lord of the Flies</td>\n",
              "      <td id=\"T_dbcc9_row2_col2\" class=\"data row2 col2\" >William Golding</td>\n",
              "      <td id=\"T_dbcc9_row2_col3\" class=\"data row2 col3\" ><img src=\"https://images.gr-assets.com/books/1327869409s/7624.jpg\" width=50></img></td>\n",
              "      <td id=\"T_dbcc9_row2_col4\" class=\"data row2 col4\" >3.640000</td>\n",
              "      <td id=\"T_dbcc9_row2_col5\" class=\"data row2 col5\" >1605019</td>\n",
              "    </tr>\n",
              "    <tr>\n",
              "      <th id=\"T_dbcc9_level0_row3\" class=\"row_heading level0 row3\" >39</th>\n",
              "      <td id=\"T_dbcc9_row3_col0\" class=\"data row3 col0\" >45</td>\n",
              "      <td id=\"T_dbcc9_row3_col1\" class=\"data row3 col1\" >Life of Pi</td>\n",
              "      <td id=\"T_dbcc9_row3_col2\" class=\"data row3 col2\" >Yann Martel</td>\n",
              "      <td id=\"T_dbcc9_row3_col3\" class=\"data row3 col3\" ><img src=\"https://images.gr-assets.com/books/1320562005s/4214.jpg\" width=50></img></td>\n",
              "      <td id=\"T_dbcc9_row3_col4\" class=\"data row3 col4\" >3.880000</td>\n",
              "      <td id=\"T_dbcc9_row3_col5\" class=\"data row3 col5\" >1003228</td>\n",
              "    </tr>\n",
              "    <tr>\n",
              "      <th id=\"T_dbcc9_level0_row4\" class=\"row_heading level0 row4\" >40</th>\n",
              "      <td id=\"T_dbcc9_row4_col0\" class=\"data row4 col0\" >46</td>\n",
              "      <td id=\"T_dbcc9_row4_col1\" class=\"data row4 col1\" >Water for Elephants</td>\n",
              "      <td id=\"T_dbcc9_row4_col2\" class=\"data row4 col2\" >Sara Gruen</td>\n",
              "      <td id=\"T_dbcc9_row4_col3\" class=\"data row4 col3\" ><img src=\"https://images.gr-assets.com/books/1494428973s/43641.jpg\" width=50></img></td>\n",
              "      <td id=\"T_dbcc9_row4_col4\" class=\"data row4 col4\" >4.070000</td>\n",
              "      <td id=\"T_dbcc9_row4_col5\" class=\"data row4 col5\" >1068146</td>\n",
              "    </tr>\n",
              "  </tbody>\n",
              "</table>\n"
            ]
          },
          "metadata": {},
          "execution_count": 23
        }
      ],
      "source": [
        "get_recommendation_npred(12874, 5).style.format({'small_image_url': show_image})"
      ]
    },
    {
      "cell_type": "markdown",
      "metadata": {
        "id": "bm8zu7Qgdv2v"
      },
      "source": [
        "SVD"
      ]
    },
    {
      "cell_type": "code",
      "execution_count": 24,
      "metadata": {
        "id": "NxDgiyYzfUCn"
      },
      "outputs": [],
      "source": [
        "# change data to trainset\n",
        "data.raw_ratings = train_ratings\n",
        "\n",
        "# select algorithm\n",
        "svd = SVD(random_state=0)"
      ]
    },
    {
      "cell_type": "code",
      "execution_count": 25,
      "metadata": {
        "colab": {
          "base_uri": "https://localhost:8080/"
        },
        "id": "44nbBmRxhdgn",
        "outputId": "3ffa5421-50ea-45cc-cc18-289b64ea83b9"
      },
      "outputs": [
        {
          "output_type": "stream",
          "name": "stdout",
          "text": [
            "Evaluating RMSE of algorithm SVD on 5 split(s).\n",
            "\n",
            "                  Fold 1  Fold 2  Fold 3  Fold 4  Fold 5  Mean    Std     \n",
            "RMSE (testset)    0.8500  0.8492  0.8491  0.8500  0.8510  0.8499  0.0007  \n",
            "Fit time          35.92   35.93   39.04   35.45   36.60   36.59   1.28    \n",
            "Test time         6.79    6.95    8.02    6.45    6.67    6.97    0.55    \n",
            "CPU times: user 1min 22s, sys: 4.07 s, total: 1min 26s\n",
            "Wall time: 2min 43s\n"
          ]
        }
      ],
      "source": [
        "%%time\n",
        "# cross validation for train data\n",
        "svd_result = cross_validate(svd, data, measures=[\"RMSE\"], cv=5, verbose=True, n_jobs = 2)"
      ]
    },
    {
      "cell_type": "code",
      "execution_count": 26,
      "metadata": {
        "colab": {
          "base_uri": "https://localhost:8080/"
        },
        "id": "GoparhVehjCo",
        "outputId": "7e9fbc77-4856-40b3-8c26-a1b0482e3b0f"
      },
      "outputs": [
        {
          "output_type": "stream",
          "name": "stdout",
          "text": [
            "Train RMSE:\n",
            "RMSE: 0.6441\n",
            "Test RMSE:\n",
            "RMSE: 0.8386\n",
            "CPU times: user 2min 7s, sys: 1.5 s, total: 2min 9s\n",
            "Wall time: 2min 8s\n"
          ]
        }
      ],
      "source": [
        "%%time\n",
        "\n",
        "# retrain whole train test\n",
        "trainset = data.build_full_trainset()\n",
        "svd.fit(trainset)\n",
        "\n",
        "# compute RMSE on trainset (without fold)\n",
        "svd_train_pred = svd.test(trainset.build_testset())\n",
        "print('Train RMSE:')\n",
        "train_rmse = accuracy.rmse(svd_train_pred)\n",
        "\n",
        "# compute RMSE on testset\n",
        "testset = data.construct_testset(test_ratings)\n",
        "svd_test_pred = svd.test(testset)\n",
        "print('Test RMSE:')\n",
        "test_rmse = accuracy.rmse(svd_test_pred)"
      ]
    },
    {
      "cell_type": "code",
      "execution_count": 27,
      "metadata": {
        "id": "hNZpVlU1hmAO"
      },
      "outputs": [],
      "source": [
        "# to dump the calculation result for future use\n",
        "dump.dump('./dump_svd', svd_test_pred, svd)"
      ]
    },
    {
      "cell_type": "code",
      "execution_count": 28,
      "metadata": {
        "id": "YmDbqWVshsVs"
      },
      "outputs": [],
      "source": [
        "np_test_pred, npred = dump.load('./dump_np')\n",
        "svd_test_pred, svd = dump.load('./dump_svd')"
      ]
    },
    {
      "cell_type": "code",
      "execution_count": 29,
      "metadata": {
        "id": "OGyiGlALhzwd"
      },
      "outputs": [],
      "source": [
        "# making the calculation result into dataframe\n",
        "df_np = pd.DataFrame(np_test_pred, columns=['uid', 'iid', 'rui', 'est', 'details'])\n",
        "df_svd = pd.DataFrame(svd_test_pred, columns=['uid', 'iid', 'rui', 'est', 'details'])"
      ]
    },
    {
      "cell_type": "code",
      "execution_count": 30,
      "metadata": {
        "colab": {
          "base_uri": "https://localhost:8080/",
          "height": 452
        },
        "id": "ckCSsaZUk5Th",
        "outputId": "ba0576b0-2d18-474e-dc38-130bd33c1721"
      },
      "outputs": [
        {
          "output_type": "display_data",
          "data": {
            "text/plain": [
              "<Figure size 1600x500 with 2 Axes>"
            ],
            "image/png": "[encoded data removed]"
          },
          "metadata": {}
        }
      ],
      "source": [
        "# count the number of predictions for each rating value\n",
        "figure, (ax1, ax2) = plt.subplots(1, 2,  figsize=(16, 5), sharey=True, constrained_layout=True)\n",
        "df_np.est.plot(kind='hist', title='NP', ax=ax1, color='#45818E')\n",
        "# Change ax3 to ax2 to use the second subplot you created\n",
        "df_svd.est.plot(kind='hist', title='SVD', ax=ax2, color='#92BA92')\n",
        "current_values = plt.gca().get_yticks() / 1000\n",
        "plt.gca().set_yticklabels(['{:,.0f}'.format(x) + 'K' for x in current_values])\n",
        "plt.suptitle('Prediction Distribution in Each Model', weight='bold', fontsize=20)\n",
        "plt.show()"
      ]
    },
    {
      "cell_type": "code",
      "execution_count": 31,
      "metadata": {
        "colab": {
          "base_uri": "https://localhost:8080/",
          "height": 565
        },
        "id": "wBj-Ye-2mrqq",
        "outputId": "44ad6972-3614-42ee-b8b2-af55dac2f6c8"
      },
      "outputs": [
        {
          "output_type": "display_data",
          "data": {
            "text/plain": [
              "<Figure size 800x600 with 1 Axes>"
            ],
            "image/png": "[encoded data removed]"
          },
          "metadata": {}
        }
      ],
      "source": [
        "fig, ax = plt.subplots(figsize=(8,6))\n",
        "sns.kdeplot(df_np['est'], shade=False, color='#45818E', label = 'NP', ax=ax)\n",
        "sns.kdeplot(df_svd['est'], shade=False, color='#92BA92', label = 'SVD', ax=ax)\n",
        "ax.legend()\n",
        "plt.xlabel('Rating prediction')\n",
        "plt.ylabel('Density')\n",
        "plt.title('Comparison of rating estimation in each model', weight='bold', fontsize=14)\n",
        "plt.show()"
      ]
    },
    {
      "cell_type": "code",
      "execution_count": 32,
      "metadata": {
        "id": "km7LZqdLnLMB"
      },
      "outputs": [],
      "source": [
        "def book_read(user_id):\n",
        "    '''Take user_id and return list of book that user has read'''\n",
        "    books_list = list(books['book_id'])\n",
        "    book_read_list = list(ratings['book_id'][ratings['user_id'] == user_id])\n",
        "    return books_list, book_read_list"
      ]
    },
    {
      "cell_type": "code",
      "execution_count": 33,
      "metadata": {
        "colab": {
          "base_uri": "https://localhost:8080/"
        },
        "id": "Q7GvhBUynYHM",
        "outputId": "6255f135-39ca-43ef-fa5a-f8dbb9fa4bfb"
      },
      "outputs": [
        {
          "output_type": "execute_result",
          "data": {
            "text/plain": [
              "<surprise.prediction_algorithms.random_pred.NormalPredictor at 0x7b89c60dfc10>"
            ]
          },
          "metadata": {},
          "execution_count": 33
        }
      ],
      "source": [
        "data.raw_ratings = all_ratings\n",
        "npred.fit(data.build_full_trainset())"
      ]
    },
    {
      "cell_type": "code",
      "execution_count": 36,
      "metadata": {
        "id": "7D69V2DCnhEB"
      },
      "outputs": [],
      "source": [
        "def get_recommendation_npred(user_id, n=5):\n",
        "    '''Give n recommendation to user_id'''\n",
        "\n",
        "    all_books, user_books =  book_read(user_id)\n",
        "    next_books = [book for book in all_books if book not in user_books]\n",
        "\n",
        "    if n <= len(next_books):\n",
        "        ratings = []\n",
        "        for book in next_books:\n",
        "            est = npred.predict(user_id, book).est\n",
        "            ratings.append((book, est))\n",
        "        ratings = sorted(ratings, key=lambda x: x[1], reverse=True)\n",
        "        book_ids = [id for id, rate in ratings[:n]]\n",
        "        return books[books.book_id.isin(book_ids)][['book_id', 'title', 'authors', 'small_image_url', 'average_rating', 'ratings_count']]\n",
        "    else:\n",
        "        print('Please reduce your recommendation request')\n",
        "        return"
      ]
    },
    {
      "cell_type": "code",
      "execution_count": 37,
      "metadata": {
        "colab": {
          "base_uri": "https://localhost:8080/",
          "height": 522
        },
        "id": "lc-WpcwnnqOG",
        "outputId": "b39cee79-af99-4ecf-bba3-27766e6116cc"
      },
      "outputs": [
        {
          "output_type": "execute_result",
          "data": {
            "text/plain": [
              "<pandas.io.formats.style.Styler at 0x7b89c7d695d0>"
            ],
            "text/html": [
              "<style type=\"text/css\">\n",
              "</style>\n",
              "<table id=\"T_89594\" class=\"dataframe\">\n",
              "  <thead>\n",
              "    <tr>\n",
              "      <th class=\"blank level0\" >&nbsp;</th>\n",
              "      <th id=\"T_89594_level0_col0\" class=\"col_heading level0 col0\" >book_id</th>\n",
              "      <th id=\"T_89594_level0_col1\" class=\"col_heading level0 col1\" >title</th>\n",
              "      <th id=\"T_89594_level0_col2\" class=\"col_heading level0 col2\" >authors</th>\n",
              "      <th id=\"T_89594_level0_col3\" class=\"col_heading level0 col3\" >small_image_url</th>\n",
              "      <th id=\"T_89594_level0_col4\" class=\"col_heading level0 col4\" >average_rating</th>\n",
              "      <th id=\"T_89594_level0_col5\" class=\"col_heading level0 col5\" >ratings_count</th>\n",
              "    </tr>\n",
              "  </thead>\n",
              "  <tbody>\n",
              "    <tr>\n",
              "      <th id=\"T_89594_level0_row0\" class=\"row_heading level0 row0\" >13</th>\n",
              "      <td id=\"T_89594_row0_col0\" class=\"data row0 col0\" >16</td>\n",
              "      <td id=\"T_89594_row0_col1\" class=\"data row0 col1\" >The Girl with the Dragon Tattoo (Millennium, #1)</td>\n",
              "      <td id=\"T_89594_row0_col2\" class=\"data row0 col2\" >Stieg Larsson</td>\n",
              "      <td id=\"T_89594_row0_col3\" class=\"data row0 col3\" ><img src=\"https://images.gr-assets.com/books/1327868566s/2429135.jpg\" width=50></img></td>\n",
              "      <td id=\"T_89594_row0_col4\" class=\"data row0 col4\" >4.110000</td>\n",
              "      <td id=\"T_89594_row0_col5\" class=\"data row0 col5\" >1808403</td>\n",
              "    </tr>\n",
              "    <tr>\n",
              "      <th id=\"T_89594_level0_row1\" class=\"row_heading level0 row1\" >24</th>\n",
              "      <td id=\"T_89594_row1_col0\" class=\"data row1 col0\" >28</td>\n",
              "      <td id=\"T_89594_row1_col1\" class=\"data row1 col1\" >Lord of the Flies</td>\n",
              "      <td id=\"T_89594_row1_col2\" class=\"data row1 col2\" >William Golding</td>\n",
              "      <td id=\"T_89594_row1_col3\" class=\"data row1 col3\" ><img src=\"https://images.gr-assets.com/books/1327869409s/7624.jpg\" width=50></img></td>\n",
              "      <td id=\"T_89594_row1_col4\" class=\"data row1 col4\" >3.640000</td>\n",
              "      <td id=\"T_89594_row1_col5\" class=\"data row1 col5\" >1605019</td>\n",
              "    </tr>\n",
              "    <tr>\n",
              "      <th id=\"T_89594_level0_row2\" class=\"row_heading level0 row2\" >34</th>\n",
              "      <td id=\"T_89594_row2_col0\" class=\"data row2 col0\" >39</td>\n",
              "      <td id=\"T_89594_row2_col1\" class=\"data row2 col1\" >A Game of Thrones (A Song of Ice and Fire, #1)</td>\n",
              "      <td id=\"T_89594_row2_col2\" class=\"data row2 col2\" >George R.R. Martin</td>\n",
              "      <td id=\"T_89594_row2_col3\" class=\"data row2 col3\" ><img src=\"https://images.gr-assets.com/books/1436732693s/13496.jpg\" width=50></img></td>\n",
              "      <td id=\"T_89594_row2_col4\" class=\"data row2 col4\" >4.450000</td>\n",
              "      <td id=\"T_89594_row2_col5\" class=\"data row2 col5\" >1319204</td>\n",
              "    </tr>\n",
              "    <tr>\n",
              "      <th id=\"T_89594_level0_row3\" class=\"row_heading level0 row3\" >62</th>\n",
              "      <td id=\"T_89594_row3_col0\" class=\"data row3 col0\" >69</td>\n",
              "      <td id=\"T_89594_row3_col1\" class=\"data row3 col1\" >Insurgent (Divergent, #2)</td>\n",
              "      <td id=\"T_89594_row3_col2\" class=\"data row3 col2\" >Veronica Roth</td>\n",
              "      <td id=\"T_89594_row3_col3\" class=\"data row3 col3\" ><img src=\"https://images.gr-assets.com/books/1325667729s/11735983.jpg\" width=50></img></td>\n",
              "      <td id=\"T_89594_row3_col4\" class=\"data row3 col4\" >4.070000</td>\n",
              "      <td id=\"T_89594_row3_col5\" class=\"data row3 col5\" >836362</td>\n",
              "    </tr>\n",
              "    <tr>\n",
              "      <th id=\"T_89594_level0_row4\" class=\"row_heading level0 row4\" >65</th>\n",
              "      <td id=\"T_89594_row4_col0\" class=\"data row4 col0\" >73</td>\n",
              "      <td id=\"T_89594_row4_col1\" class=\"data row4 col1\" >The Host (The Host, #1)</td>\n",
              "      <td id=\"T_89594_row4_col2\" class=\"data row4 col2\" >Stephenie Meyer</td>\n",
              "      <td id=\"T_89594_row4_col3\" class=\"data row4 col3\" ><img src=\"https://images.gr-assets.com/books/1318009171s/1656001.jpg\" width=50></img></td>\n",
              "      <td id=\"T_89594_row4_col4\" class=\"data row4 col4\" >3.840000</td>\n",
              "      <td id=\"T_89594_row4_col5\" class=\"data row4 col5\" >749780</td>\n",
              "    </tr>\n",
              "  </tbody>\n",
              "</table>\n"
            ]
          },
          "metadata": {},
          "execution_count": 37
        }
      ],
      "source": [
        "get_recommendation_npred(12874, 5).style.format({'small_image_url': show_image})"
      ]
    },
    {
      "cell_type": "code",
      "execution_count": 38,
      "metadata": {
        "colab": {
          "base_uri": "https://localhost:8080/"
        },
        "id": "oevS8fLTppP2",
        "outputId": "74a603c6-f0ae-4229-ec1c-774413e26b8f"
      },
      "outputs": [
        {
          "output_type": "stream",
          "name": "stdout",
          "text": [
            "CPU times: user 1min 43s, sys: 712 ms, total: 1min 44s\n",
            "Wall time: 1min 44s\n"
          ]
        },
        {
          "output_type": "execute_result",
          "data": {
            "text/plain": [
              "<surprise.prediction_algorithms.matrix_factorization.SVD at 0x7b8772120d90>"
            ]
          },
          "metadata": {},
          "execution_count": 38
        }
      ],
      "source": [
        "%%time\n",
        "# make recommendation on full dataset\n",
        "data.raw_ratings = all_ratings\n",
        "svd.fit(data.build_full_trainset())"
      ]
    },
    {
      "cell_type": "code",
      "execution_count": 39,
      "metadata": {
        "id": "DgwJTgKZpvXN"
      },
      "outputs": [],
      "source": [
        "def get_recommendation_svd(user_id, n=5):\n",
        "    '''Give n recommendation to user_id'''\n",
        "\n",
        "    all_books, user_books =  book_read(user_id)\n",
        "    next_books = [book for book in all_books if book not in user_books]\n",
        "\n",
        "    if n <= len(next_books):\n",
        "        ratings = []\n",
        "        for book in next_books:\n",
        "            est = svd.predict(user_id, book).est\n",
        "            ratings.append((book, est))\n",
        "        ratings = sorted(ratings, key=lambda x: x[1], reverse=True)\n",
        "        book_ids = [id for id, rate in ratings[:n]]\n",
        "        return books[books.book_id.isin(book_ids)][['book_id', 'title', 'authors', 'small_image_url', 'average_rating', 'ratings_count']]\n",
        "    else:\n",
        "        print('Please reduce your recommendation request')\n",
        "        return"
      ]
    },
    {
      "cell_type": "code",
      "execution_count": 40,
      "metadata": {
        "colab": {
          "base_uri": "https://localhost:8080/",
          "height": 519
        },
        "id": "L3dzdealp4pI",
        "outputId": "e40e400b-793e-40dd-9c33-5d93bc0cfba8"
      },
      "outputs": [
        {
          "output_type": "execute_result",
          "data": {
            "text/plain": [
              "<pandas.io.formats.style.Styler at 0x7b89c65c1240>"
            ],
            "text/html": [
              "<style type=\"text/css\">\n",
              "</style>\n",
              "<table id=\"T_50bb6\" class=\"dataframe\">\n",
              "  <thead>\n",
              "    <tr>\n",
              "      <th class=\"blank level0\" >&nbsp;</th>\n",
              "      <th id=\"T_50bb6_level0_col0\" class=\"col_heading level0 col0\" >book_id</th>\n",
              "      <th id=\"T_50bb6_level0_col1\" class=\"col_heading level0 col1\" >title</th>\n",
              "      <th id=\"T_50bb6_level0_col2\" class=\"col_heading level0 col2\" >authors</th>\n",
              "      <th id=\"T_50bb6_level0_col3\" class=\"col_heading level0 col3\" >small_image_url</th>\n",
              "      <th id=\"T_50bb6_level0_col4\" class=\"col_heading level0 col4\" >average_rating</th>\n",
              "      <th id=\"T_50bb6_level0_col5\" class=\"col_heading level0 col5\" >ratings_count</th>\n",
              "    </tr>\n",
              "  </thead>\n",
              "  <tbody>\n",
              "    <tr>\n",
              "      <th id=\"T_50bb6_level0_row0\" class=\"row_heading level0 row0\" >27</th>\n",
              "      <td id=\"T_50bb6_row0_col0\" class=\"data row0 col0\" >31</td>\n",
              "      <td id=\"T_50bb6_row0_col1\" class=\"data row0 col1\" >The Help</td>\n",
              "      <td id=\"T_50bb6_row0_col2\" class=\"data row0 col2\" >Kathryn Stockett</td>\n",
              "      <td id=\"T_50bb6_row0_col3\" class=\"data row0 col3\" ><img src=\"https://images.gr-assets.com/books/1346100365s/4667024.jpg\" width=50></img></td>\n",
              "      <td id=\"T_50bb6_row0_col4\" class=\"data row0 col4\" >4.450000</td>\n",
              "      <td id=\"T_50bb6_row0_col5\" class=\"data row0 col5\" >1531753</td>\n",
              "    </tr>\n",
              "    <tr>\n",
              "      <th id=\"T_50bb6_level0_row1\" class=\"row_heading level0 row1\" >194</th>\n",
              "      <td id=\"T_50bb6_row1_col0\" class=\"data row1 col0\" >215</td>\n",
              "      <td id=\"T_50bb6_row1_col1\" class=\"data row1 col1\" >Ready Player One</td>\n",
              "      <td id=\"T_50bb6_row1_col2\" class=\"data row1 col2\" >Ernest Cline</td>\n",
              "      <td id=\"T_50bb6_row1_col3\" class=\"data row1 col3\" ><img src=\"https://images.gr-assets.com/books/1500930947s/9969571.jpg\" width=50></img></td>\n",
              "      <td id=\"T_50bb6_row1_col4\" class=\"data row1 col4\" >4.310000</td>\n",
              "      <td id=\"T_50bb6_row1_col5\" class=\"data row1 col5\" >349423</td>\n",
              "    </tr>\n",
              "    <tr>\n",
              "      <th id=\"T_50bb6_level0_row2\" class=\"row_heading level0 row2\" >226</th>\n",
              "      <td id=\"T_50bb6_row2_col0\" class=\"data row2 col0\" >250</td>\n",
              "      <td id=\"T_50bb6_row2_col1\" class=\"data row2 col1\" >Wonder</td>\n",
              "      <td id=\"T_50bb6_row2_col2\" class=\"data row2 col2\" >R.J. Palacio</td>\n",
              "      <td id=\"T_50bb6_row2_col3\" class=\"data row2 col3\" ><img src=\"https://images.gr-assets.com/books/1309285027s/11387515.jpg\" width=50></img></td>\n",
              "      <td id=\"T_50bb6_row2_col4\" class=\"data row2 col4\" >4.430000</td>\n",
              "      <td id=\"T_50bb6_row2_col5\" class=\"data row2 col5\" >228538</td>\n",
              "    </tr>\n",
              "    <tr>\n",
              "      <th id=\"T_50bb6_level0_row3\" class=\"row_heading level0 row3\" >390</th>\n",
              "      <td id=\"T_50bb6_row3_col0\" class=\"data row3 col0\" >425</td>\n",
              "      <td id=\"T_50bb6_row3_col1\" class=\"data row3 col1\" >Go Ask Alice</td>\n",
              "      <td id=\"T_50bb6_row3_col2\" class=\"data row3 col2\" >Beatrice Sparks</td>\n",
              "      <td id=\"T_50bb6_row3_col3\" class=\"data row3 col3\" ><img src=\"https://images.gr-assets.com/books/1327870536s/46799.jpg\" width=50></img></td>\n",
              "      <td id=\"T_50bb6_row3_col4\" class=\"data row3 col4\" >3.770000</td>\n",
              "      <td id=\"T_50bb6_row3_col5\" class=\"data row3 col5\" >196677</td>\n",
              "    </tr>\n",
              "    <tr>\n",
              "      <th id=\"T_50bb6_level0_row4\" class=\"row_heading level0 row4\" >1698</th>\n",
              "      <td id=\"T_50bb6_row4_col0\" class=\"data row4 col0\" >1808</td>\n",
              "      <td id=\"T_50bb6_row4_col1\" class=\"data row4 col1\" >Morning Star (Red Rising, #3)</td>\n",
              "      <td id=\"T_50bb6_row4_col2\" class=\"data row4 col2\" >Pierce Brown</td>\n",
              "      <td id=\"T_50bb6_row4_col3\" class=\"data row4 col3\" ><img src=\"https://images.gr-assets.com/books/1461354277s/18966806.jpg\" width=50></img></td>\n",
              "      <td id=\"T_50bb6_row4_col4\" class=\"data row4 col4\" >4.500000</td>\n",
              "      <td id=\"T_50bb6_row4_col5\" class=\"data row4 col5\" >47736</td>\n",
              "    </tr>\n",
              "  </tbody>\n",
              "</table>\n"
            ]
          },
          "metadata": {},
          "execution_count": 40
        }
      ],
      "source": [
        "get_recommendation_svd(12874, 5).style.format({'small_image_url': show_image})"
      ]
    },
    {
      "cell_type": "markdown",
      "metadata": {
        "id": "WN0ic1QaqI3a"
      },
      "source": [
        "Hyperparameter Tuning"
      ]
    },
    {
      "cell_type": "code",
      "execution_count": 41,
      "metadata": {
        "id": "xF2SOW3SqL9D"
      },
      "outputs": [],
      "source": [
        "# prepare train data\n",
        "data.raw_ratings = train_ratings"
      ]
    },
    {
      "cell_type": "code",
      "execution_count": 42,
      "metadata": {
        "colab": {
          "base_uri": "https://localhost:8080/"
        },
        "id": "oLoTWANVqO1J",
        "outputId": "03164118-1d21-4665-c1e0-acba7d7126b3"
      },
      "outputs": [
        {
          "output_type": "stream",
          "name": "stdout",
          "text": [
            "0.8383909423046669\n",
            "{'n_epochs': 30, 'lr_all': 0.005, 'reg_all': 0.04}\n",
            "CPU times: user 4min 5s, sys: 19.7 s, total: 4min 25s\n",
            "Wall time: 18min 39s\n"
          ]
        }
      ],
      "source": [
        "%%time\n",
        "grid = {'n_epochs': [20, 30],\n",
        "        'lr_all': [.005, .001],\n",
        "        'reg_all': [0.02, 0.04]}\n",
        "gs = GridSearchCV(SVD, grid, measures=['RMSE'], cv=5, n_jobs=2)\n",
        "gs.fit(data)\n",
        "print(gs.best_score['rmse'])\n",
        "print(gs.best_params['rmse'])"
      ]
    },
    {
      "cell_type": "code",
      "execution_count": 43,
      "metadata": {
        "id": "ouDpcKFzqS4h"
      },
      "outputs": [],
      "source": [
        "# select best algorithm\n",
        "svdtuned = gs.best_estimator['rmse']"
      ]
    },
    {
      "cell_type": "code",
      "execution_count": 44,
      "metadata": {
        "colab": {
          "base_uri": "https://localhost:8080/"
        },
        "id": "u4FmOUmrqVG_",
        "outputId": "f5a88cd4-f576-4442-9f9d-72aff9fac4dd"
      },
      "outputs": [
        {
          "output_type": "stream",
          "name": "stdout",
          "text": [
            "Train RMSE:\n",
            "RMSE: 0.6580\n",
            "Test RMSE:\n",
            "RMSE: 0.8273\n",
            "CPU times: user 2min 32s, sys: 3.05 s, total: 2min 35s\n",
            "Wall time: 2min 34s\n"
          ]
        }
      ],
      "source": [
        "%%time\n",
        "\n",
        "#retrain whole train test (without fold)\n",
        "trainset = data.build_full_trainset()\n",
        "svdtuned.fit(trainset)\n",
        "\n",
        "# compute RMSE on trainset (without fold)\n",
        "svdtuned_train_pred = svdtuned.test(trainset.build_testset())\n",
        "print('Train RMSE:')\n",
        "train_rmse = accuracy.rmse(svdtuned_train_pred)\n",
        "\n",
        "# compute RMSE on testset\n",
        "testset = data.construct_testset(test_ratings)\n",
        "svdtuned_test_pred = svdtuned.test(testset)\n",
        "print('Test RMSE:')\n",
        "test_rmse = accuracy.rmse(svdtuned_test_pred)"
      ]
    },
    {
      "cell_type": "code",
      "execution_count": 45,
      "metadata": {
        "colab": {
          "base_uri": "https://localhost:8080/"
        },
        "id": "GlHQqKdsqbZz",
        "outputId": "f80ecdbc-d7a2-4e34-81ac-8f40de89c3e4"
      },
      "outputs": [
        {
          "output_type": "stream",
          "name": "stdout",
          "text": [
            "CPU times: user 2min 30s, sys: 779 ms, total: 2min 31s\n",
            "Wall time: 2min 31s\n"
          ]
        },
        {
          "output_type": "execute_result",
          "data": {
            "text/plain": [
              "<surprise.prediction_algorithms.matrix_factorization.SVD at 0x7b89c50a4910>"
            ]
          },
          "metadata": {},
          "execution_count": 45
        }
      ],
      "source": [
        "%%time\n",
        "\n",
        "data.raw_ratings = all_ratings\n",
        "svdtuned.fit(data.build_full_trainset())"
      ]
    },
    {
      "cell_type": "code",
      "execution_count": 46,
      "metadata": {
        "id": "9vOnwZOCqfRh"
      },
      "outputs": [],
      "source": [
        "def get_recommendation(user_id, n=5):\n",
        "    '''Give n recommendation to user_id'''\n",
        "\n",
        "    all_books, user_books =  book_read(user_id)\n",
        "    next_books = [book for book in all_books if book not in user_books]\n",
        "\n",
        "    if n <= len(next_books):\n",
        "        ratings = []\n",
        "        for book in next_books:\n",
        "            est = svdtuned.predict(user_id, book).est\n",
        "            ratings.append((book, est))\n",
        "        ratings = sorted(ratings, key=lambda x: x[1], reverse=True)\n",
        "        book_ids = [id for id, rate in ratings[:n]]\n",
        "        return books[books.book_id.isin(book_ids)][['book_id', 'title', 'authors', 'small_image_url', 'average_rating', 'ratings_count']]\n",
        "    else:\n",
        "        print('Please reduce your recommendation request')\n",
        "        return"
      ]
    },
    {
      "cell_type": "code",
      "execution_count": 47,
      "metadata": {
        "colab": {
          "base_uri": "https://localhost:8080/",
          "height": 502
        },
        "id": "QnQUtrI2qxp7",
        "outputId": "0ced6b38-e1be-40b8-ddb9-66347425f12f"
      },
      "outputs": [
        {
          "output_type": "execute_result",
          "data": {
            "text/plain": [
              "<pandas.io.formats.style.Styler at 0x7b89c52be9e0>"
            ],
            "text/html": [
              "<style type=\"text/css\">\n",
              "</style>\n",
              "<table id=\"T_34044\" class=\"dataframe\">\n",
              "  <thead>\n",
              "    <tr>\n",
              "      <th class=\"blank level0\" >&nbsp;</th>\n",
              "      <th id=\"T_34044_level0_col0\" class=\"col_heading level0 col0\" >book_id</th>\n",
              "      <th id=\"T_34044_level0_col1\" class=\"col_heading level0 col1\" >title</th>\n",
              "      <th id=\"T_34044_level0_col2\" class=\"col_heading level0 col2\" >authors</th>\n",
              "      <th id=\"T_34044_level0_col3\" class=\"col_heading level0 col3\" >small_image_url</th>\n",
              "      <th id=\"T_34044_level0_col4\" class=\"col_heading level0 col4\" >average_rating</th>\n",
              "      <th id=\"T_34044_level0_col5\" class=\"col_heading level0 col5\" >ratings_count</th>\n",
              "    </tr>\n",
              "  </thead>\n",
              "  <tbody>\n",
              "    <tr>\n",
              "      <th id=\"T_34044_level0_row0\" class=\"row_heading level0 row0\" >27</th>\n",
              "      <td id=\"T_34044_row0_col0\" class=\"data row0 col0\" >31</td>\n",
              "      <td id=\"T_34044_row0_col1\" class=\"data row0 col1\" >The Help</td>\n",
              "      <td id=\"T_34044_row0_col2\" class=\"data row0 col2\" >Kathryn Stockett</td>\n",
              "      <td id=\"T_34044_row0_col3\" class=\"data row0 col3\" ><img src=\"https://images.gr-assets.com/books/1346100365s/4667024.jpg\" width=50></img></td>\n",
              "      <td id=\"T_34044_row0_col4\" class=\"data row0 col4\" >4.450000</td>\n",
              "      <td id=\"T_34044_row0_col5\" class=\"data row0 col5\" >1531753</td>\n",
              "    </tr>\n",
              "    <tr>\n",
              "      <th id=\"T_34044_level0_row1\" class=\"row_heading level0 row1\" >387</th>\n",
              "      <td id=\"T_34044_row1_col0\" class=\"data row1 col0\" >422</td>\n",
              "      <td id=\"T_34044_row1_col1\" class=\"data row1 col1\" >Harry Potter Boxset (Harry Potter, #1-7)</td>\n",
              "      <td id=\"T_34044_row1_col2\" class=\"data row1 col2\" >J.K. Rowling</td>\n",
              "      <td id=\"T_34044_row1_col3\" class=\"data row1 col3\" ><img src=\"https://images.gr-assets.com/books/1392579059s/862041.jpg\" width=50></img></td>\n",
              "      <td id=\"T_34044_row1_col4\" class=\"data row1 col4\" >4.740000</td>\n",
              "      <td id=\"T_34044_row1_col5\" class=\"data row1 col5\" >190050</td>\n",
              "    </tr>\n",
              "    <tr>\n",
              "      <th id=\"T_34044_level0_row2\" class=\"row_heading level0 row2\" >4383</th>\n",
              "      <td id=\"T_34044_row2_col0\" class=\"data row2 col0\" >4868</td>\n",
              "      <td id=\"T_34044_row2_col1\" class=\"data row2 col1\" >Jesus the Christ</td>\n",
              "      <td id=\"T_34044_row2_col2\" class=\"data row2 col2\" >James E. Talmage</td>\n",
              "      <td id=\"T_34044_row2_col3\" class=\"data row2 col3\" ><img src=\"https://s.gr-assets.com/assets/nophoto/book/50x75-a91bf249278a81aabab721ef782c4a74.png\" width=50></img></td>\n",
              "      <td id=\"T_34044_row2_col4\" class=\"data row2 col4\" >4.630000</td>\n",
              "      <td id=\"T_34044_row2_col5\" class=\"data row2 col5\" >17179</td>\n",
              "    </tr>\n",
              "    <tr>\n",
              "      <th id=\"T_34044_level0_row3\" class=\"row_heading level0 row3\" >6024</th>\n",
              "      <td id=\"T_34044_row3_col0\" class=\"data row3 col0\" >6920</td>\n",
              "      <td id=\"T_34044_row3_col1\" class=\"data row3 col1\" >The Indispensable Calvin and Hobbes</td>\n",
              "      <td id=\"T_34044_row3_col2\" class=\"data row3 col2\" >Bill Watterson</td>\n",
              "      <td id=\"T_34044_row3_col3\" class=\"data row3 col3\" ><img src=\"https://s.gr-assets.com/assets/nophoto/book/50x75-a91bf249278a81aabab721ef782c4a74.png\" width=50></img></td>\n",
              "      <td id=\"T_34044_row3_col4\" class=\"data row3 col4\" >4.730000</td>\n",
              "      <td id=\"T_34044_row3_col5\" class=\"data row3 col5\" >14597</td>\n",
              "    </tr>\n",
              "    <tr>\n",
              "      <th id=\"T_34044_level0_row4\" class=\"row_heading level0 row4\" >7466</th>\n",
              "      <td id=\"T_34044_row4_col0\" class=\"data row4 col0\" >8946</td>\n",
              "      <td id=\"T_34044_row4_col1\" class=\"data row4 col1\" >The Divan</td>\n",
              "      <td id=\"T_34044_row4_col2\" class=\"data row4 col2\" >Hafez</td>\n",
              "      <td id=\"T_34044_row4_col3\" class=\"data row4 col3\" ><img src=\"https://images.gr-assets.com/books/1327770153s/46292.jpg\" width=50></img></td>\n",
              "      <td id=\"T_34044_row4_col4\" class=\"data row4 col4\" >4.630000</td>\n",
              "      <td id=\"T_34044_row4_col5\" class=\"data row4 col5\" >2773</td>\n",
              "    </tr>\n",
              "  </tbody>\n",
              "</table>\n"
            ]
          },
          "metadata": {},
          "execution_count": 47
        }
      ],
      "source": [
        "get_recommendation(12874, 5).style.format({'small_image_url': show_image})"
      ]
    },
    {
      "cell_type": "code",
      "source": [
        "# uncomment this code to dump the calculation result for future use\n",
        "dump.dump('./dump_tuning', svdtuned_test_pred, svdtuned)"
      ],
      "metadata": {
        "id": "7WDpXX27vutk"
      },
      "execution_count": 48,
      "outputs": []
    },
    {
      "cell_type": "code",
      "source": [
        "# uncomment this code to load the dump file\n",
        "svd_test_pred, svd = dump.load('./dump_svd')\n",
        "svdtuned_test_pred, svdtuned = dump.load('./dump_tuning')\n"
      ],
      "metadata": {
        "id": "JF9UQ4Wxv6lk"
      },
      "execution_count": 49,
      "outputs": []
    },
    {
      "cell_type": "code",
      "source": [
        "df_svd = pd.DataFrame(svd_test_pred, columns=['uid', 'iid', 'rui', 'est', 'details'])\n",
        "df_svdtuned = pd.DataFrame(svdtuned_test_pred, columns=['uid', 'iid', 'rui', 'est', 'details'])\n"
      ],
      "metadata": {
        "id": "2Ibfdz4IvqBG"
      },
      "execution_count": 50,
      "outputs": []
    },
    {
      "cell_type": "code",
      "execution_count": 51,
      "metadata": {
        "colab": {
          "base_uri": "https://localhost:8080/",
          "height": 564
        },
        "id": "vnD_Tap3q2eS",
        "outputId": "a7a07aed-da4c-49af-87e6-795b7536bb62"
      },
      "outputs": [
        {
          "output_type": "display_data",
          "data": {
            "text/plain": [
              "<Figure size 800x600 with 1 Axes>"
            ],
            "image/png": "[encoded data removed]"
          },
          "metadata": {}
        }
      ],
      "source": [
        "# visualization\n",
        "fig, ax = plt.subplots(figsize=(8,6))\n",
        "sns.kdeplot(df_svd['est'], shade=False, color='#92BA92', label = 'SVD', ax=ax)\n",
        "sns.kdeplot(df_svdtuned['est'], shade=False, color='#DEBA9D', label = 'Tuned SVD', ax=ax)\n",
        "ax.legend()\n",
        "plt.xlabel('Rating prediction')\n",
        "plt.ylabel('Density')\n",
        "plt.title('Comparison of rating estimation in SVD and Tuned SVD')\n",
        "plt.show()"
      ]
    }
  ],
  "metadata": {
    "colab": {
      "provenance": [],
      "gpuType": "V28",
      "authorship_tag": "ABX9TyPmcxtIElC1H0PDnZRJ368I",
      "include_colab_link": true
    },
    "kernelspec": {
      "display_name": "Python 3",
      "name": "python3"
    },
    "language_info": {
      "name": "python"
    },
    "accelerator": "TPU"
  },
  "nbformat": 4,
  "nbformat_minor": 0
}